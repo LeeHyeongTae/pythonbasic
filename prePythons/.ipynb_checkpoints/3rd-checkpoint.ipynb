{
 "cells": [
  {
   "cell_type": "code",
   "execution_count": 1,
   "metadata": {},
   "outputs": [
    {
     "name": "stdout",
     "output_type": "stream",
     "text": [
      "3rd programming\n"
     ]
    }
   ],
   "source": [
    "print(\"3rd programming\")"
   ]
  },
  {
   "cell_type": "code",
   "execution_count": 2,
   "metadata": {},
   "outputs": [
    {
     "name": "stdout",
     "output_type": "stream",
     "text": [
      "['In', 'Out', 'PyTestClass', '_', '__', '___', '__builtin__', '__builtins__', '__doc__', '__loader__', '__name__', '__package__', '__spec__', '_dh', '_i', '_i1', '_i2', '_ih', '_ii', '_iii', '_oh', 'exit', 'get_ipython', 'quit']\n",
      "<class 'type'>\n"
     ]
    }
   ],
   "source": [
    "# java나 다른 언어의 중괄호 표기를 ':'이 대체하고 있다.\n",
    "class PyTestClass:\n",
    "    \"\"\"it's for Test Class\"\"\"\n",
    "    pass\n",
    "\n",
    "# dir() 사용할수 있는 모듈(라이브러리)에 어떤 것들이 있는지 보여준다.\n",
    "print(dir())\n",
    "# type은 당연히 class로 나온다.\n",
    "print(type(PyTestClass))"
   ]
  },
  {
   "cell_type": "code",
   "execution_count": 6,
   "metadata": {},
   "outputs": [
    {
     "name": "stdout",
     "output_type": "stream",
     "text": [
      "My name is Default Name\n",
      "##########\n",
      "My name is Python3\n",
      "My name is Python3\n",
      "#########\n",
      "p1.Name = Python3\n",
      "p2.Name = Default Name\n"
     ]
    }
   ],
   "source": [
    "#자바에서는 메서드만 따로 빠져있는 경우가 없었음.\n",
    "# 외부에 def A()만 딸랑 있는 경우\n",
    "# 동일하게 메서드라고 생각하면 된다.\n",
    "# 메서드를 호출해야 하듯 마찬가지로 호출을 해줘야 동작이 된다.\n",
    "\n",
    "class Person:\n",
    "    Name = \"Default Name\"\n",
    "    \n",
    "    def Print(self):\n",
    "        print(\"My name is {0}\".format(self.Name))\n",
    "        \n",
    "p1 = Person()\n",
    "p1.Print()\n",
    "print(\"##########\")\n",
    "\n",
    "# 현재는 전부 public이므로 외부에서 마음대로 참조 및 변경이 가능\n",
    "p1.Name = \"Python3\"\n",
    "p1.Print()\n",
    "#직접 클래스 에 있는 프린트를 호출한다는 방식으로도 사용이 가능하다.\n",
    "# 이것은 순수한 인터프리터 언어라 가능한 것임.\n",
    "Person.Print(p1)\n",
    "\n",
    "p1 = Person()\n",
    "p1.Name = \"Python3\"\n",
    "\n",
    "p2 = Person()\n",
    "\n",
    "print(\"#########\")\n",
    "#클래스 구조는 같아도 객체가 서로 다르므로 내부에 설정하는 값은 다르다.\n",
    "print(\"p1.Name =\", p1.Name)\n",
    "print(\"p2.Name =\", p2.Name)"
   ]
  },
  {
   "cell_type": "code",
   "execution_count": 8,
   "metadata": {},
   "outputs": [
    {
     "name": "stdout",
     "output_type": "stream",
     "text": [
      "p1.title = Python3 Test\n",
      "p2.title = Python3 Test\n",
      "Person.title = Python3 Test\n",
      "p1.age = 20\n"
     ]
    }
   ],
   "source": [
    "# 클래스 내부 변수를 아래와 같이 언제든지 마음대로 추가 할 수 있다.\n",
    "Person.title = \"Python3 Test\"\n",
    "print(\"p1.title =\", p1.title)\n",
    "print(\"p2.title =\", p2.title)\n",
    "print(\"Person.title =\", Person.title)\n",
    "\n",
    "p1.age = 20\n",
    "print(\"p1.age =\", p1.age)"
   ]
  },
  {
   "cell_type": "code",
   "execution_count": 10,
   "metadata": {
    "scrolled": true
   },
   "outputs": [
    {
     "name": "stdout",
     "output_type": "stream",
     "text": [
      "Test Message\n",
      "Not CLass Member\n"
     ]
    }
   ],
   "source": [
    "#str1 전역으로 생성되어 있음.\n",
    "str1 = \"Not CLass Member\"\n",
    "\n",
    "class NonSelfTest:\n",
    "    str1 = \"\"\n",
    "    \n",
    "    def Set(self, msg):\n",
    "        self.str1 = msg\n",
    "        \n",
    "    def Print(self):\n",
    "        print(self.str1)\n",
    "        print(str1)\n",
    "        \n",
    "# 객체를 생성\n",
    "test = NonSelfTest()\n",
    "# Setter를 활용해서 \"Test Message\"를 설정\n",
    "test.Set(\"Test Message\")\n",
    "# 결과를 출력해서 메세지를 보고 싶었으나 출력된 것은 전역 변수인 \"Not Class Member\"가 출력됨.\n",
    "# self를 명시하지 않고 이름이 같은게 있다면 전역변수에 접근하게 된다.\n",
    "test.Print()"
   ]
  },
  {
   "cell_type": "code",
   "execution_count": 14,
   "metadata": {},
   "outputs": [
    {
     "name": "stdout",
     "output_type": "stream",
     "text": [
      "Default\n",
      "Default\n",
      "########\n",
      "Change\n",
      "Change\n",
      "##########\n",
      "Change\n",
      "Only this\n"
     ]
    }
   ],
   "source": [
    "class ClassTest:\n",
    "    data = \"Default\"\n",
    "    \n",
    "ct1 = ClassTest()\n",
    "ct2 = ClassTest()\n",
    "\n",
    "print(ct1.data)\n",
    "print(ct1.data)\n",
    "\n",
    "# __class__.data로 지정하면 해당 객체의 클래스 타입을 파악하여 해당 클래스에 대한 모든 객체의 값을 변경한다.\n",
    "ct1.__class__.data = \"Change\"\n",
    "print(\"########\")\n",
    "print(ct1.data)\n",
    "print(ct2.data)\n",
    "\n",
    "#__class__가 없으면 대상 객체만 변경된다.\n",
    "ct2.data = \"Only this\"\n",
    "print('##########')\n",
    "print(ct1.data)\n",
    "print(ct2.data)"
   ]
  },
  {
   "cell_type": "code",
   "execution_count": 19,
   "metadata": {},
   "outputs": [
    {
     "name": "stdout",
     "output_type": "stream",
     "text": [
      "v is instance of Vehicle: True\n",
      "a is loV: True\n",
      "v is instance of Airplane: False\n",
      "v is Instance of Object: True\n",
      "v is instance of Fish: False\n",
      "int is instance of Object: True\n"
     ]
    }
   ],
   "source": [
    "class Vehicle:\n",
    "    pass\n",
    "class Fish:\n",
    "    pass\n",
    "# 파이썬에서 상속은 아래와 같이 한다. Airplane은 Vehicle을 상속 받았음을 의미한다.\n",
    "class Airplane(Vehicle):\n",
    "    pass\n",
    "\n",
    "v, a = Vehicle(), Airplane()\n",
    "\n",
    "# 자식은 부모에 대한 인스턴스가 될 수 있다.\n",
    "print(\"v is instance of Vehicle:\", isinstance(v, Vehicle))\n",
    "print(\"a is loV:\", isinstance(a, Vehicle))\n",
    "print(\"v is instance of Airplane:\", isinstance(v, Airplane))\n",
    "print(\"v is Instance of Object:\", isinstance(v, object))\n",
    "print(\"v is instance of Fish:\", isinstance(v, Fish))\n",
    "print(\"int is instance of Object:\", isinstance(int, object))"
   ]
  },
  {
   "cell_type": "code",
   "execution_count": 21,
   "metadata": {},
   "outputs": [
    {
     "name": "stdout",
     "output_type": "stream",
     "text": [
      "Vehicle Class Constructor ! Value =  333\n",
      "정말?\n",
      "Vehicles Class Destructor!\n",
      "레알?\n"
     ]
    }
   ],
   "source": [
    "class Vehicles:\n",
    "    #__init__ 이 키워드 붙어있으면 Constructor\n",
    "    #init: 초기화\n",
    "    def __init__(self, value):\n",
    "        self.Value = value\n",
    "        print(\"Vehicle Class Constructor ! Value = \", value)\n",
    "    #__del__ 이 키워드가 붙으면 소멸자\n",
    "    def __del__(self):\n",
    "        print(\"Vehicles Class Destructor!\")\n",
    "\n",
    "def test():\n",
    "    #t라는 객체는 test 함수 내에서만 살아있는 지역변수(Stack)\n",
    "    t = Vehicles(333)\n",
    "    #그러므로 test 함수가 끝나면 소멸자가 호출된다.\n",
    "    print(\"정말?\")\n",
    "    \n",
    "test()\n",
    "print(\"레알?\")"
   ]
  },
  {
   "cell_type": "code",
   "execution_count": 26,
   "metadata": {},
   "outputs": [
    {
     "name": "stdout",
     "output_type": "stream",
     "text": [
      "Instance cnt : 3\n",
      "Instance cnt : 3\n",
      "Instance cnt : 3\n",
      "Instance cnt : 3\n"
     ]
    }
   ],
   "source": [
    "class CntManager:\n",
    "    cnt = 0\n",
    "    \n",
    "    def __init__(self):\n",
    "        CntManager.cnt += 1\n",
    "        \n",
    "    # self를 사용하지 않고 클래스 자체의 cnt로 접근하라고 하고 있음.\n",
    "    def staticPrintCnt():\n",
    "        print(\"Instance cnt :\", CntManager.cnt)\n",
    "    # staticmethod - 언제든지 외부에서 쉽게 참조하여 호출할 수 있게 만들어줌 (일종의 별칭)   \n",
    "    # 즉 클래스에 있는 메서드를 조금더 이름이 단순한 sPrintCnt로 대체\n",
    "    sPrintCnt = staticmethod(staticPrintCnt)\n",
    "    \n",
    "    # 결국 classmethod로 만든 classPrintCnt의 cls는 self와 동일한 역할을 수행하게 된다.\n",
    "    def classPrintCnt(cls):\n",
    "        print(\"Instace cnt : \", cls.cnt)\n",
    "        \n",
    "    # classmethod - 디폴트로 첫번째 인자가 자신의 클래스 셋팅됨.    \n",
    "    cPrintCnt = classmethod(classPrintCnt)\n",
    "\n",
    "# 결국 생성자를 통해 모든 CntManager 기반의 객체들의 cnt 값을 증가시킴\n",
    "a, b, c = CntManager(), CntManager(), CntManager()\n",
    "\n",
    "CntManager.sPrintCnt()\n",
    "b.sPrintCnt()\n",
    "\n",
    "#파라미터 표기가 없어도 알아서 디폴트로 클래스 자신이 셋팅됨.\n",
    "CntManager.sPrintCnt()\n",
    "c.sPrintCnt()"
   ]
  },
  {
   "cell_type": "code",
   "execution_count": 27,
   "metadata": {},
   "outputs": [
    {
     "name": "stdout",
     "output_type": "stream",
     "text": [
      "{'name': 'Maron', 'phoneNum': '010-0000-0000'}\n",
      "{'name': 'Luna', 'phoneNum': '010-1234-5678', 'subject': 'Electric', 'studentId': '1000001'}\n"
     ]
    }
   ],
   "source": [
    "# 자식이 부모 클래스를 상속받을 때 생성자를 어떻게 처리해야 하는가 ?\n",
    "class Person:\n",
    "    #Person의 생성자\n",
    "    def __init__(self, name, phoneNum):\n",
    "        self.name = name\n",
    "        self.phoneNum = phoneNum\n",
    "        \n",
    "    def printInfo(self):\n",
    "        print(\"Info(name:{0}, Phone Num: {1})\".fomat(self.name, self.phoneNum))\n",
    "        \n",
    "    def printPersonData(self):\n",
    "        print(\"Person(name: {0}, Phone Num: {1})\".format(self.name, self.phoneNum))\n",
    "        \n",
    "class Student(Person):\n",
    "    #Student의 생성자\n",
    "    #자바와는 다르게 생성자 내에서 부모 클래스에 대한 부분을 처리해줘야 한다.\n",
    "    def __init__(self, name, phoneNum, subject, studentId):\n",
    "        self.name = name\n",
    "        self.phoneNum = phoneNum\n",
    "        self.subject = subject\n",
    "        self.studentId = studentId\n",
    "        \n",
    "p = Person(\"Maron\", \"010-0000-0000\")\n",
    "s = Student(\"Luna\", \"010-1234-5678\", \"Electric\", \"1000001\")\n",
    "\n",
    "# 생성된 객체를 __dict__ 통해서 살펴보면 내부의 정보들을 획득할 수 있다.\n",
    "print(p.__dict__)\n",
    "print(s.__dict__)"
   ]
  },
  {
   "cell_type": "code",
   "execution_count": 28,
   "metadata": {},
   "outputs": [
    {
     "name": "stdout",
     "output_type": "stream",
     "text": [
      "28.274333882308138\n",
      "18.84955592153876\n",
      "153.93804002589985\n",
      "43.982297150257104\n"
     ]
    }
   ],
   "source": [
    "import math\n",
    "\n",
    "class Circle(object):\n",
    "    def __init__(self, r):\n",
    "        self.r = r\n",
    "        \n",
    "    def setter(self, r):\n",
    "        self.r = r\n",
    "\n",
    "    # pi * r^2 (원의 넓이)\n",
    "    @property\n",
    "    def area(self):\n",
    "        return math.pi * self.r ** 2\n",
    "    \n",
    "    # 2 * pi * r (원의 둘레)\n",
    "    @property\n",
    "    def circumference(self):\n",
    "        return 2 * math.pi * self.r\n",
    "\n",
    "c = Circle(3.0)\n",
    "print(c.area)\n",
    "print(c.circumference)\n",
    "\n",
    "c.setter(7.0)\n",
    "print(c.area)\n",
    "print(c.circumference)"
   ]
  },
  {
   "cell_type": "code",
   "execution_count": 32,
   "metadata": {},
   "outputs": [
    {
     "name": "stdout",
     "output_type": "stream",
     "text": [
      "3\n",
      "python\n",
      "Class\n"
     ]
    }
   ],
   "source": [
    "class DummyClass:\n",
    "    def __init__(self):\n",
    "        self.var1 = 3\n",
    "        self._var2 = 'python'\n",
    "        self.__var3 = 'Class'\n",
    "        \n",
    "dp = DummyClass()\n",
    "\n",
    "# 노 언더바 - public \n",
    "print(dp.var1)\n",
    "# 언더바 1개 - protected\n",
    "print(dp._var2)\n",
    "# 언더바 2개 - private\n",
    "# print(dp.__var3)\n",
    "print(dp._DummyClass__var3)"
   ]
  },
  {
   "cell_type": "code",
   "execution_count": 34,
   "metadata": {},
   "outputs": [
    {
     "name": "stdout",
     "output_type": "stream",
     "text": [
      "{'name': 'Timber Wolf', 'height': 140, 'weight': 75, 'feed': 'Meat', 'sound': 'Howl'}\n",
      "Timber Wolf : Howl\n"
     ]
    }
   ],
   "source": [
    "class Animal:\n",
    "    def __init__(self, name, height, weight):\n",
    "        self.name = name\n",
    "        self.height = height\n",
    "        self.weight = weight\n",
    "    \n",
    "    def info(self):\n",
    "        print(\"name:\", str(self.name))\n",
    "        print(\"height:\", str(self.height))\n",
    "        print(\"weight:\", str(self.weight))\n",
    "        \n",
    "class Carnivore(Animal):\n",
    "    def __init__(self, name, height, weight, feed, sound):\n",
    "        # Animal 에 있는 생성자를 호출 강제 요청 super와 동일하다.\n",
    "        Animal.__init__(self, name, height, weight)\n",
    "        self.feed = feed\n",
    "        self.sound = sound\n",
    "        \n",
    "    def sounds(self):\n",
    "        print(str(self.name)+\" : \"+ str(self.sound))\n",
    "\n",
    "wolf = Carnivore(\"Timber Wolf\", 140, 75, \"Meat\", \"Howl\")\n",
    "\n",
    "print(wolf.__dict__)\n",
    "wolf.sounds()"
   ]
  },
  {
   "cell_type": "code",
   "execution_count": 37,
   "metadata": {},
   "outputs": [
    {
     "name": "stdout",
     "output_type": "stream",
     "text": [
      "im a sub class : [3]\n",
      "Im Super Class\n"
     ]
    }
   ],
   "source": [
    "class Parent(object):\n",
    "    def __init__(self, num):\n",
    "        self.num = num\n",
    "    \n",
    "    def printMsg(self):\n",
    "        print(\"Im Super Class\")\n",
    "        \n",
    "class Child(Parent):\n",
    "    def __init__(self, num):\n",
    "        #super(Child, self)라는 것이 Child의 super Class를 불러오라는 의미\n",
    "        # Super Class를 불러와서 그것의 __init__이므로 결국 Super Class의 생성자를 호출하는 것과 같다.\n",
    "        super(Child, self).__init__(num)\n",
    "        \n",
    "    def printMsg(self):\n",
    "        print(\"im a sub class : [%s]\" % str(self.num))\n",
    "        super(Child, self).printMsg()\n",
    "        \n",
    "c = Child(3)\n",
    "c.printMsg()"
   ]
  },
  {
   "cell_type": "code",
   "execution_count": null,
   "metadata": {},
   "outputs": [],
   "source": []
  }
 ],
 "metadata": {
  "kernelspec": {
   "display_name": "Python 3",
   "language": "python",
   "name": "python3"
  },
  "language_info": {
   "codemirror_mode": {
    "name": "ipython",
    "version": 3
   },
   "file_extension": ".py",
   "mimetype": "text/x-python",
   "name": "python",
   "nbconvert_exporter": "python",
   "pygments_lexer": "ipython3",
   "version": "3.7.6"
  }
 },
 "nbformat": 4,
 "nbformat_minor": 4
}
